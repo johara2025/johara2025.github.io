{
 "cells": [
  {
   "cell_type": "markdown",
   "metadata": {},
   "source": [
    "# Treasure Hunt Game Notebook\n",
    "\n",
    "## Read and Review Your Starter Code\n",
    "The theme of this project is a popular treasure hunt game in which the player needs to find the treasure before the pirate does. While you will not be developing the entire game, you will write the part of the game that represents the intelligent agent, which is a pirate in this case. The pirate will try to find the optimal path to the treasure using deep Q-learning. \n",
    "\n",
    "You have been provided with two Python classes and this notebook to help you with this assignment. The first class, TreasureMaze.py, represents the environment, which includes a maze object defined as a matrix. The second class, GameExperience.py, stores the episodes – that is, all the states that come in between the initial state and the terminal state. This is later used by the agent for learning by experience, called \"exploration\". This notebook shows how to play a game. Your task is to complete the deep Q-learning implementation for which a skeleton implementation has been provided. The code blocks you will need to complete has #TODO as a header.\n",
    "\n",
    "First, read and review the next few code and instruction blocks to understand the code that you have been given."
   ]
  },
  {
   "cell_type": "code",
   "execution_count": 1,
   "metadata": {},
   "outputs": [
    {
     "name": "stderr",
     "output_type": "stream",
     "text": [
      "Using TensorFlow backend.\n"
     ]
    }
   ],
   "source": [
    "from __future__ import print_function\n",
    "import os, sys, time, datetime, json, random\n",
    "import numpy as np\n",
    "from keras.models import Sequential\n",
    "from keras.layers.core import Dense, Activation\n",
    "from keras.optimizers import SGD , Adam, RMSprop\n",
    "from keras.layers.advanced_activations import PReLU\n",
    "import matplotlib.pyplot as plt\n",
    "from TreasureMaze import TreasureMaze\n",
    "from GameExperience import GameExperience\n",
    "%matplotlib inline"
   ]
  },
  {
   "cell_type": "markdown",
   "metadata": {},
   "source": [
    "The following code block contains an 8x8 matrix that will be used as a maze object:"
   ]
  },
  {
   "cell_type": "code",
   "execution_count": 2,
   "metadata": {},
   "outputs": [],
   "source": [
    "maze = np.array([\n",
    "    [ 1.,  0.,  1.,  1.,  1.,  1.,  1.,  1.],\n",
    "    [ 1.,  0.,  1.,  1.,  1.,  0.,  1.,  1.],\n",
    "    [ 1.,  1.,  1.,  1.,  0.,  1.,  0.,  1.],\n",
    "    [ 1.,  1.,  1.,  0.,  1.,  1.,  1.,  1.],\n",
    "    [ 1.,  1.,  0.,  1.,  1.,  1.,  1.,  1.],\n",
    "    [ 1.,  1.,  1.,  0.,  1.,  0.,  0.,  0.],\n",
    "    [ 1.,  1.,  1.,  0.,  1.,  1.,  1.,  1.],\n",
    "    [ 1.,  1.,  1.,  1.,  0.,  1.,  1.,  1.]\n",
    "])"
   ]
  },
  {
   "cell_type": "markdown",
   "metadata": {},
   "source": [
    "This helper function allows a visual representation of the maze object:"
   ]
  },
  {
   "cell_type": "code",
   "execution_count": 3,
   "metadata": {},
   "outputs": [],
   "source": [
    "def show(qmaze):\n",
    "    plt.grid('on')\n",
    "    nrows, ncols = qmaze.maze.shape\n",
    "    ax = plt.gca()\n",
    "    ax.set_xticks(np.arange(0.5, nrows, 1))\n",
    "    ax.set_yticks(np.arange(0.5, ncols, 1))\n",
    "    ax.set_xticklabels([])\n",
    "    ax.set_yticklabels([])\n",
    "    canvas = np.copy(qmaze.maze)\n",
    "    for row,col in qmaze.visited:\n",
    "        canvas[row,col] = 0.6\n",
    "    pirate_row, pirate_col, _ = qmaze.state\n",
    "    canvas[pirate_row, pirate_col] = 0.3   # pirate cell\n",
    "    canvas[nrows-1, ncols-1] = 0.9 # treasure cell\n",
    "    img = plt.imshow(canvas, interpolation='none', cmap='gray')\n",
    "    return img"
   ]
  },
  {
   "cell_type": "markdown",
   "metadata": {},
   "source": [
    "The pirate agent can move in four directions: left, right, up, and down. \n",
    "\n",
    "While the agent primarily learns by experience through exploitation, often, the agent can choose to explore the environment to find previously undiscovered paths. This is called \"exploration\" and is defined by epsilon. This value is typically a lower value such as 0.1, which means for every ten attempts, the agent will attempt to learn by experience nine times and will randomly explore a new path one time. You are encouraged to try various values for the exploration factor and see how the algorithm performs."
   ]
  },
  {
   "cell_type": "code",
   "execution_count": 4,
   "metadata": {},
   "outputs": [],
   "source": [
    "LEFT = 0\n",
    "UP = 1\n",
    "RIGHT = 2\n",
    "DOWN = 3\n",
    "\n",
    "\n",
    "# Exploration factor\n",
    "epsilon = 0.1\n",
    "\n",
    "# Actions dictionary\n",
    "actions_dict = {\n",
    "    LEFT: 'left',\n",
    "    UP: 'up',\n",
    "    RIGHT: 'right',\n",
    "    DOWN: 'down',\n",
    "}\n",
    "\n",
    "num_actions = len(actions_dict)\n"
   ]
  },
  {
   "cell_type": "markdown",
   "metadata": {},
   "source": [
    "The sample code block and output below show creating a maze object and performing one action (DOWN), which returns the reward. The resulting updated environment is visualized."
   ]
  },
  {
   "cell_type": "code",
   "execution_count": 5,
   "metadata": {},
   "outputs": [
    {
     "name": "stdout",
     "output_type": "stream",
     "text": [
      "reward= -0.04\n"
     ]
    },
    {
     "data": {
      "text/plain": [
       "<matplotlib.image.AxesImage at 0x2884fdd4d48>"
      ]
     },
     "execution_count": 5,
     "metadata": {},
     "output_type": "execute_result"
    },
    {
     "data": {
      "image/png": "[encoded data removed]",
      "text/plain": [
       "<Figure size 432x288 with 1 Axes>"
      ]
     },
     "metadata": {
      "needs_background": "light"
     },
     "output_type": "display_data"
    }
   ],
   "source": [
    "qmaze = TreasureMaze(maze)\n",
    "canvas, reward, game_over = qmaze.act(DOWN)\n",
    "print(\"reward=\", reward)\n",
    "show(qmaze)"
   ]
  },
  {
   "cell_type": "markdown",
   "metadata": {},
   "source": [
    "This function simulates a full game based on the provided trained model. The other parameters include the TreasureMaze object and the starting position of the pirate."
   ]
  },
  {
   "cell_type": "code",
   "execution_count": 6,
   "metadata": {},
   "outputs": [],
   "source": [
    "def play_game(model, qmaze, pirate_cell):\n",
    "    qmaze.reset(pirate_cell)\n",
    "    envstate = qmaze.observe()\n",
    "    while True:\n",
    "        prev_envstate = envstate\n",
    "        # get next action\n",
    "        q = model.predict(prev_envstate)\n",
    "        action = np.argmax(q[0])\n",
    "\n",
    "        # apply action, get rewards and new state\n",
    "        envstate, reward, game_status = qmaze.act(action)\n",
    "        if game_status == 'win':\n",
    "            return True\n",
    "        elif game_status == 'lose':\n",
    "            return False"
   ]
  },
  {
   "cell_type": "markdown",
   "metadata": {},
   "source": [
    "This function helps you to determine whether the pirate can win any game at all. If your maze is not well designed, the pirate may not win any game at all. In this case, your training would not yield any result. The provided maze in this notebook ensures that there is a path to win and you can run this method to check."
   ]
  },
  {
   "cell_type": "code",
   "execution_count": 7,
   "metadata": {},
   "outputs": [],
   "source": [
    "def completion_check(model, qmaze):\n",
    "    for cell in qmaze.free_cells:\n",
    "        if not qmaze.valid_actions(cell):\n",
    "            return False\n",
    "        if not play_game(model, qmaze, cell):\n",
    "            return False\n",
    "    return True"
   ]
  },
  {
   "cell_type": "markdown",
   "metadata": {},
   "source": [
    "The code you have been given in this block will build the neural network model. Review the code and note the number of layers, as well as the activation, optimizer, and loss functions that are used to train the model."
   ]
  },
  {
   "cell_type": "code",
   "execution_count": 8,
   "metadata": {},
   "outputs": [],
   "source": [
    "def build_model(maze):\n",
    "    model = Sequential()\n",
    "    model.add(Dense(maze.size, input_shape=(maze.size,)))\n",
    "    model.add(PReLU())\n",
    "    model.add(Dense(maze.size))\n",
    "    model.add(PReLU())\n",
    "    model.add(Dense(num_actions))\n",
    "    model.compile(optimizer='adam', loss='mse')\n",
    "    return model"
   ]
  },
  {
   "cell_type": "markdown",
   "metadata": {},
   "source": [
    "# #TODO: Complete the Q-Training Algorithm Code Block\n",
    "\n",
    "This is your deep Q-learning implementation. The goal of your deep Q-learning implementation is to find the best possible navigation sequence that results in reaching the treasure cell while maximizing the reward. In your implementation, you need to determine the optimal number of epochs to achieve a 100% win rate.\n",
    "\n",
    "You will need to complete the section starting with #pseudocode. The pseudocode has been included for you."
   ]
  },
  {
   "cell_type": "code",
   "execution_count": 9,
   "metadata": {},
   "outputs": [],
   "source": [
    "def qtrain(model, maze, **opt):\n",
    "\n",
    "    # exploration factor\n",
    "    global epsilon \n",
    "\n",
    "    # number of epochs\n",
    "    n_epoch = opt.get('n_epoch', 15000)\n",
    "\n",
    "    # maximum memory to store episodes\n",
    "    max_memory = opt.get('max_memory', 1000)\n",
    "\n",
    "    # maximum data size for training\n",
    "    data_size = opt.get('data_size', 50)\n",
    "\n",
    "    # start time\n",
    "    start_time = datetime.datetime.now()\n",
    "\n",
    "    # Construct environment/game from numpy array: maze (see above)\n",
    "    qmaze = TreasureMaze(maze)\n",
    "\n",
    "    # Initialize experience replay object\n",
    "    experience = GameExperience(model, max_memory=max_memory)\n",
    "    \n",
    "    win_history = []   # history of win/lose game\n",
    "    hsize = qmaze.maze.size//2   # history window size\n",
    "    win_rate = 0.0\n",
    "    n_episodes = 0\n",
    "    \n",
    "    # For each epoch:\n",
    "    for epoch in range(n_epoch):\n",
    "        # agent cell randomly selects a free cell\n",
    "        Agent_cell = random.choice(qmaze.free_cells)\n",
    "        #reset maze with agent in the free cell\n",
    "        qmaze.reset(Agent_cell)\n",
    "        envstate = qmaze.observe()\n",
    "        \n",
    "        # define game over to false to start the loop\n",
    "        game_over = False\n",
    "        \n",
    "        #while loop to show when the state is not game over \n",
    "        while not game_over:\n",
    "            #prev state is envstate\n",
    "            previous_envstate = envstate\n",
    "            # action is randomly chosen action\n",
    "            valid_actions = qmaze.valid_actions()\n",
    "            \n",
    "            #add eppsilon strategy so that the agent isnt choosing at random every single time and not learning\n",
    "            if np.random.rand() < epsilon:\n",
    "                action = random.choice(valid_actions)\n",
    "            else:\n",
    "                action = np.argmax(experience.predict(previous_envstate))\n",
    "                \n",
    "            #get new state \n",
    "            envstate, reward, game_status = qmaze.act(action)\n",
    "            \n",
    "            if game_status == 'win':\n",
    "                win_history.append(1)\n",
    "                game_over = True\n",
    "            elif game_status == 'lose':\n",
    "                win_history.append(0)\n",
    "                game_over = True\n",
    "            else:\n",
    "                game_over = False\n",
    "            \n",
    "            #episode has prev envstat actions reward envstate game state \n",
    "            #then episode is stored in experience replay onject \n",
    "            episode = [previous_envstate, action, reward, envstate, game_status]\n",
    "            experience.remember(episode)\n",
    "            n_episodes += 1\n",
    "            #get training data from memory \n",
    "            inputs, targets = experience.get_data(data_size = data_size)\n",
    "            \n",
    "            #train networ and evaluate the loss\n",
    "            history = model.fit(inputs, targets, epochs=8, batch_size=16, verbose=0)\n",
    "            loss = model.evaluate(inputs, targets, verbose=0)\n",
    "            \n",
    "            # track win loss history to determine the completion check and epoch\n",
    "            if len(win_history) > hsize:\n",
    "                win_rate = sum(win_history[-hsize:]) / hsize\n",
    "\n",
    "\n",
    "    #Print the epoch, loss, episodes, win count, and win rate for each epoch\n",
    "        dt = datetime.datetime.now() - start_time\n",
    "        t = format_time(dt.total_seconds())\n",
    "        template = \"Epoch: {:03d}/{:d} | Loss: {:.4f} | Episodes: {:d} | Win count: {:d} | Win rate: {:.3f} | time: {}\"\n",
    "        print(template.format(epoch, n_epoch-1, loss, n_episodes, sum(win_history), win_rate, t))\n",
    "        # We simply check if training has exhausted all free cells and if in all\n",
    "        # cases the agent won.\n",
    "        if win_rate > 0.9 : epsilon = 0.05\n",
    "        if sum(win_history[-hsize:]) == hsize and completion_check(model, qmaze):\n",
    "            print(\"Reached 100%% win rate at epoch: %d\" % (epoch,))\n",
    "            break\n",
    "    \n",
    "    \n",
    "    # Determine the total time for training\n",
    "    dt = datetime.datetime.now() - start_time\n",
    "    seconds = dt.total_seconds()\n",
    "    t = format_time(seconds)\n",
    "\n",
    "    print(\"n_epoch: %d, max_mem: %d, data: %d, time: %s\" % (epoch, max_memory, data_size, t))\n",
    "    return seconds\n",
    "\n",
    "# This is a small utility for printing readable time strings:\n",
    "def format_time(seconds):\n",
    "    if seconds < 400:\n",
    "        s = float(seconds)\n",
    "        return \"%.1f seconds\" % (s,)\n",
    "    elif seconds < 4000:\n",
    "        m = seconds / 60.0\n",
    "        return \"%.2f minutes\" % (m,)\n",
    "    else:\n",
    "        h = seconds / 3600.0\n",
    "        return \"%.2f hours\" % (h,)"
   ]
  },
  {
   "cell_type": "markdown",
   "metadata": {},
   "source": [
    "## Test Your Model\n",
    "\n",
    "Now we will start testing the deep Q-learning implementation. To begin, select **Cell**, then **Run All** from the menu bar. This will run your notebook. As it runs, you should see output begin to appear beneath the next few cells. The code below creates an instance of TreasureMaze."
   ]
  },
  {
   "cell_type": "code",
   "execution_count": 10,
   "metadata": {},
   "outputs": [
    {
     "data": {
      "text/plain": [
       "<matplotlib.image.AxesImage at 0x28850e28d08>"
      ]
     },
     "execution_count": 10,
     "metadata": {},
     "output_type": "execute_result"
    },
    {
     "data": {
      "image/png": "[encoded data removed]",
      "text/plain": [
       "<Figure size 432x288 with 1 Axes>"
      ]
     },
     "metadata": {
      "needs_background": "light"
     },
     "output_type": "display_data"
    }
   ],
   "source": [
    "qmaze = TreasureMaze(maze)\n",
    "show(qmaze)"
   ]
  },
  {
   "cell_type": "markdown",
   "metadata": {},
   "source": [
    "In the next code block, you will build your model and train it using deep Q-learning. Note: This step takes several minutes to fully run."
   ]
  },
  {
   "cell_type": "code",
   "execution_count": 11,
   "metadata": {},
   "outputs": [
    {
     "name": "stdout",
     "output_type": "stream",
     "text": [
      "Epoch: 000/14999 | Loss: 0.0003 | Episodes: 98 | Win count: 1 | Win rate: 0.000 | time: 13.9 seconds\n",
      "Epoch: 001/14999 | Loss: 0.0103 | Episodes: 100 | Win count: 2 | Win rate: 0.000 | time: 14.1 seconds\n",
      "Epoch: 002/14999 | Loss: 0.0079 | Episodes: 115 | Win count: 3 | Win rate: 0.000 | time: 16.3 seconds\n",
      "Epoch: 003/14999 | Loss: 0.0004 | Episodes: 252 | Win count: 3 | Win rate: 0.000 | time: 37.6 seconds\n",
      "Epoch: 004/14999 | Loss: 0.0008 | Episodes: 391 | Win count: 3 | Win rate: 0.000 | time: 58.7 seconds\n",
      "Epoch: 005/14999 | Loss: 0.0008 | Episodes: 525 | Win count: 3 | Win rate: 0.000 | time: 79.1 seconds\n",
      "Epoch: 006/14999 | Loss: 0.0003 | Episodes: 665 | Win count: 3 | Win rate: 0.000 | time: 101.8 seconds\n",
      "Epoch: 007/14999 | Loss: 0.0004 | Episodes: 683 | Win count: 4 | Win rate: 0.000 | time: 104.7 seconds\n",
      "Epoch: 008/14999 | Loss: 0.0008 | Episodes: 685 | Win count: 5 | Win rate: 0.000 | time: 105.1 seconds\n",
      "Epoch: 009/14999 | Loss: 0.0007 | Episodes: 823 | Win count: 5 | Win rate: 0.000 | time: 125.9 seconds\n",
      "Epoch: 010/14999 | Loss: 0.0011 | Episodes: 964 | Win count: 5 | Win rate: 0.000 | time: 149.1 seconds\n",
      "Epoch: 011/14999 | Loss: 0.0008 | Episodes: 1078 | Win count: 6 | Win rate: 0.000 | time: 167.6 seconds\n",
      "Epoch: 012/14999 | Loss: 0.0008 | Episodes: 1215 | Win count: 6 | Win rate: 0.000 | time: 189.0 seconds\n",
      "Epoch: 013/14999 | Loss: 0.0008 | Episodes: 1216 | Win count: 7 | Win rate: 0.000 | time: 189.1 seconds\n",
      "Epoch: 014/14999 | Loss: 0.0003 | Episodes: 1356 | Win count: 7 | Win rate: 0.000 | time: 212.0 seconds\n",
      "Epoch: 015/14999 | Loss: 0.0004 | Episodes: 1489 | Win count: 7 | Win rate: 0.000 | time: 235.5 seconds\n",
      "Epoch: 016/14999 | Loss: 0.0004 | Episodes: 1495 | Win count: 8 | Win rate: 0.000 | time: 236.6 seconds\n",
      "Epoch: 017/14999 | Loss: 0.0005 | Episodes: 1497 | Win count: 9 | Win rate: 0.000 | time: 236.9 seconds\n",
      "Epoch: 018/14999 | Loss: 0.0009 | Episodes: 1630 | Win count: 10 | Win rate: 0.000 | time: 259.8 seconds\n",
      "Epoch: 019/14999 | Loss: 0.0013 | Episodes: 1655 | Win count: 11 | Win rate: 0.000 | time: 264.2 seconds\n",
      "Epoch: 020/14999 | Loss: 0.0005 | Episodes: 1796 | Win count: 11 | Win rate: 0.000 | time: 288.7 seconds\n",
      "Epoch: 021/14999 | Loss: 0.0009 | Episodes: 1930 | Win count: 11 | Win rate: 0.000 | time: 310.0 seconds\n",
      "Epoch: 022/14999 | Loss: 0.0004 | Episodes: 2070 | Win count: 11 | Win rate: 0.000 | time: 331.9 seconds\n",
      "Epoch: 023/14999 | Loss: 0.0006 | Episodes: 2208 | Win count: 11 | Win rate: 0.000 | time: 353.8 seconds\n",
      "Epoch: 024/14999 | Loss: 0.0004 | Episodes: 2347 | Win count: 11 | Win rate: 0.000 | time: 375.8 seconds\n",
      "Epoch: 025/14999 | Loss: 0.0002 | Episodes: 2491 | Win count: 11 | Win rate: 0.000 | time: 398.2 seconds\n",
      "Epoch: 026/14999 | Loss: 0.0006 | Episodes: 2632 | Win count: 11 | Win rate: 0.000 | time: 7.01 minutes\n",
      "Epoch: 027/14999 | Loss: 0.0009 | Episodes: 2726 | Win count: 12 | Win rate: 0.000 | time: 7.27 minutes\n",
      "Epoch: 028/14999 | Loss: 0.0008 | Episodes: 2866 | Win count: 12 | Win rate: 0.000 | time: 7.65 minutes\n",
      "Epoch: 029/14999 | Loss: 0.0002 | Episodes: 3005 | Win count: 12 | Win rate: 0.000 | time: 8.04 minutes\n",
      "Epoch: 030/14999 | Loss: 0.0005 | Episodes: 3148 | Win count: 12 | Win rate: 0.000 | time: 8.43 minutes\n",
      "Epoch: 031/14999 | Loss: 0.0013 | Episodes: 3294 | Win count: 12 | Win rate: 0.000 | time: 8.83 minutes\n",
      "Epoch: 032/14999 | Loss: 0.0005 | Episodes: 3299 | Win count: 13 | Win rate: 0.375 | time: 8.84 minutes\n",
      "Epoch: 033/14999 | Loss: 0.0007 | Episodes: 3379 | Win count: 14 | Win rate: 0.375 | time: 9.07 minutes\n",
      "Epoch: 034/14999 | Loss: 0.0011 | Episodes: 3424 | Win count: 15 | Win rate: 0.375 | time: 9.20 minutes\n",
      "Epoch: 035/14999 | Loss: 0.0008 | Episodes: 3455 | Win count: 16 | Win rate: 0.406 | time: 9.30 minutes\n",
      "Epoch: 036/14999 | Loss: 0.0010 | Episodes: 3484 | Win count: 17 | Win rate: 0.438 | time: 9.38 minutes\n",
      "Epoch: 037/14999 | Loss: 0.0006 | Episodes: 3536 | Win count: 18 | Win rate: 0.469 | time: 9.53 minutes\n",
      "Epoch: 038/14999 | Loss: 0.0004 | Episodes: 3545 | Win count: 19 | Win rate: 0.500 | time: 9.56 minutes\n",
      "Epoch: 039/14999 | Loss: 0.0005 | Episodes: 3564 | Win count: 20 | Win rate: 0.500 | time: 9.61 minutes\n",
      "Epoch: 040/14999 | Loss: 0.0002 | Episodes: 3585 | Win count: 21 | Win rate: 0.500 | time: 9.68 minutes\n",
      "Epoch: 041/14999 | Loss: 0.0007 | Episodes: 3679 | Win count: 22 | Win rate: 0.531 | time: 9.93 minutes\n",
      "Epoch: 042/14999 | Loss: 0.0011 | Episodes: 3687 | Win count: 23 | Win rate: 0.562 | time: 9.95 minutes\n",
      "Epoch: 043/14999 | Loss: 0.0008 | Episodes: 3745 | Win count: 24 | Win rate: 0.562 | time: 10.11 minutes\n",
      "Epoch: 044/14999 | Loss: 0.0010 | Episodes: 3773 | Win count: 25 | Win rate: 0.594 | time: 10.19 minutes\n",
      "Epoch: 045/14999 | Loss: 0.0010 | Episodes: 3782 | Win count: 26 | Win rate: 0.594 | time: 10.22 minutes\n",
      "Epoch: 046/14999 | Loss: 0.0011 | Episodes: 3795 | Win count: 27 | Win rate: 0.625 | time: 10.25 minutes\n",
      "Epoch: 047/14999 | Loss: 0.0008 | Episodes: 3800 | Win count: 28 | Win rate: 0.656 | time: 10.27 minutes\n",
      "Epoch: 048/14999 | Loss: 0.0011 | Episodes: 3812 | Win count: 29 | Win rate: 0.656 | time: 10.30 minutes\n",
      "Epoch: 049/14999 | Loss: 0.0010 | Episodes: 3829 | Win count: 30 | Win rate: 0.656 | time: 10.35 minutes\n",
      "Epoch: 050/14999 | Loss: 0.0008 | Episodes: 3831 | Win count: 31 | Win rate: 0.656 | time: 10.36 minutes\n",
      "Epoch: 051/14999 | Loss: 0.0012 | Episodes: 3832 | Win count: 32 | Win rate: 0.656 | time: 10.36 minutes\n",
      "Epoch: 052/14999 | Loss: 0.0007 | Episodes: 3865 | Win count: 33 | Win rate: 0.688 | time: 10.45 minutes\n",
      "Epoch: 053/14999 | Loss: 0.0009 | Episodes: 3889 | Win count: 34 | Win rate: 0.719 | time: 10.52 minutes\n",
      "Epoch: 054/14999 | Loss: 0.0007 | Episodes: 3939 | Win count: 35 | Win rate: 0.750 | time: 10.65 minutes\n",
      "Epoch: 055/14999 | Loss: 0.0007 | Episodes: 3941 | Win count: 36 | Win rate: 0.781 | time: 10.66 minutes\n",
      "Epoch: 056/14999 | Loss: 0.0005 | Episodes: 3956 | Win count: 37 | Win rate: 0.812 | time: 10.70 minutes\n",
      "Epoch: 057/14999 | Loss: 0.0006 | Episodes: 3965 | Win count: 38 | Win rate: 0.844 | time: 10.72 minutes\n",
      "Epoch: 058/14999 | Loss: 0.0007 | Episodes: 3990 | Win count: 39 | Win rate: 0.875 | time: 10.80 minutes\n",
      "Epoch: 059/14999 | Loss: 0.0010 | Episodes: 3997 | Win count: 40 | Win rate: 0.875 | time: 10.82 minutes\n",
      "Epoch: 060/14999 | Loss: 0.0004 | Episodes: 4007 | Win count: 41 | Win rate: 0.906 | time: 10.84 minutes\n",
      "Epoch: 061/14999 | Loss: 0.0003 | Episodes: 4008 | Win count: 42 | Win rate: 0.938 | time: 10.85 minutes\n",
      "Epoch: 062/14999 | Loss: 0.0008 | Episodes: 4022 | Win count: 43 | Win rate: 0.969 | time: 10.88 minutes\n",
      "Epoch: 063/14999 | Loss: 0.0004 | Episodes: 4049 | Win count: 44 | Win rate: 1.000 | time: 10.96 minutes\n",
      "Epoch: 064/14999 | Loss: 0.0008 | Episodes: 4070 | Win count: 45 | Win rate: 1.000 | time: 11.02 minutes\n",
      "Epoch: 065/14999 | Loss: 0.0009 | Episodes: 4130 | Win count: 46 | Win rate: 1.000 | time: 11.18 minutes\n",
      "Epoch: 066/14999 | Loss: 0.0003 | Episodes: 4157 | Win count: 47 | Win rate: 1.000 | time: 11.26 minutes\n",
      "Epoch: 067/14999 | Loss: 0.0002 | Episodes: 4177 | Win count: 48 | Win rate: 1.000 | time: 11.33 minutes\n",
      "Epoch: 068/14999 | Loss: 0.0005 | Episodes: 4186 | Win count: 49 | Win rate: 1.000 | time: 11.36 minutes\n",
      "Epoch: 069/14999 | Loss: 0.0014 | Episodes: 4189 | Win count: 50 | Win rate: 1.000 | time: 11.38 minutes\n",
      "Epoch: 070/14999 | Loss: 0.0001 | Episodes: 4190 | Win count: 51 | Win rate: 1.000 | time: 11.39 minutes\n",
      "Epoch: 071/14999 | Loss: 0.0005 | Episodes: 4191 | Win count: 52 | Win rate: 1.000 | time: 11.40 minutes\n",
      "Epoch: 072/14999 | Loss: 0.0006 | Episodes: 4215 | Win count: 53 | Win rate: 1.000 | time: 11.48 minutes\n",
      "Epoch: 073/14999 | Loss: 0.0004 | Episodes: 4270 | Win count: 54 | Win rate: 1.000 | time: 11.62 minutes\n",
      "Epoch: 074/14999 | Loss: 0.0005 | Episodes: 4272 | Win count: 55 | Win rate: 1.000 | time: 11.63 minutes\n",
      "Epoch: 075/14999 | Loss: 0.0002 | Episodes: 4282 | Win count: 56 | Win rate: 1.000 | time: 11.65 minutes\n",
      "Epoch: 076/14999 | Loss: 0.0005 | Episodes: 4290 | Win count: 57 | Win rate: 1.000 | time: 11.68 minutes\n",
      "Epoch: 077/14999 | Loss: 0.0010 | Episodes: 4307 | Win count: 58 | Win rate: 1.000 | time: 11.74 minutes\n",
      "Epoch: 078/14999 | Loss: 0.0004 | Episodes: 4309 | Win count: 59 | Win rate: 1.000 | time: 11.74 minutes\n"
     ]
    },
    {
     "name": "stdout",
     "output_type": "stream",
     "text": [
      "Epoch: 079/14999 | Loss: 0.0002 | Episodes: 4316 | Win count: 60 | Win rate: 1.000 | time: 11.78 minutes\n",
      "Epoch: 080/14999 | Loss: 0.0002 | Episodes: 4327 | Win count: 61 | Win rate: 1.000 | time: 11.81 minutes\n",
      "Epoch: 081/14999 | Loss: 0.0003 | Episodes: 4340 | Win count: 62 | Win rate: 1.000 | time: 11.86 minutes\n",
      "Epoch: 082/14999 | Loss: 0.0008 | Episodes: 4437 | Win count: 63 | Win rate: 1.000 | time: 12.12 minutes\n",
      "Epoch: 083/14999 | Loss: 0.0002 | Episodes: 4445 | Win count: 64 | Win rate: 1.000 | time: 12.16 minutes\n",
      "Epoch: 084/14999 | Loss: 0.0004 | Episodes: 4459 | Win count: 65 | Win rate: 1.000 | time: 12.19 minutes\n",
      "Epoch: 085/14999 | Loss: 0.0006 | Episodes: 4485 | Win count: 66 | Win rate: 1.000 | time: 12.28 minutes\n",
      "Epoch: 086/14999 | Loss: 0.0008 | Episodes: 4491 | Win count: 67 | Win rate: 1.000 | time: 12.29 minutes\n",
      "Epoch: 087/14999 | Loss: 0.0006 | Episodes: 4512 | Win count: 68 | Win rate: 1.000 | time: 12.35 minutes\n",
      "Epoch: 088/14999 | Loss: 0.0012 | Episodes: 4552 | Win count: 69 | Win rate: 1.000 | time: 12.47 minutes\n",
      "Epoch: 089/14999 | Loss: 0.0003 | Episodes: 4598 | Win count: 70 | Win rate: 1.000 | time: 12.60 minutes\n",
      "Epoch: 090/14999 | Loss: 0.0006 | Episodes: 4623 | Win count: 71 | Win rate: 1.000 | time: 12.67 minutes\n",
      "Epoch: 091/14999 | Loss: 0.0006 | Episodes: 4649 | Win count: 72 | Win rate: 1.000 | time: 12.74 minutes\n",
      "Epoch: 092/14999 | Loss: 0.0009 | Episodes: 4659 | Win count: 73 | Win rate: 1.000 | time: 12.77 minutes\n",
      "Epoch: 093/14999 | Loss: 0.0006 | Episodes: 4688 | Win count: 74 | Win rate: 1.000 | time: 12.84 minutes\n",
      "Epoch: 094/14999 | Loss: 0.0009 | Episodes: 4716 | Win count: 75 | Win rate: 1.000 | time: 12.91 minutes\n",
      "Epoch: 095/14999 | Loss: 0.0004 | Episodes: 4747 | Win count: 76 | Win rate: 1.000 | time: 12.99 minutes\n",
      "Epoch: 096/14999 | Loss: 0.0015 | Episodes: 4757 | Win count: 77 | Win rate: 1.000 | time: 13.02 minutes\n",
      "Epoch: 097/14999 | Loss: 0.0001 | Episodes: 4799 | Win count: 78 | Win rate: 1.000 | time: 13.12 minutes\n",
      "Epoch: 098/14999 | Loss: 0.0009 | Episodes: 4823 | Win count: 79 | Win rate: 1.000 | time: 13.18 minutes\n",
      "Epoch: 099/14999 | Loss: 0.0007 | Episodes: 4842 | Win count: 80 | Win rate: 1.000 | time: 13.23 minutes\n",
      "Epoch: 100/14999 | Loss: 0.0008 | Episodes: 4883 | Win count: 81 | Win rate: 1.000 | time: 13.33 minutes\n",
      "Epoch: 101/14999 | Loss: 0.0003 | Episodes: 4894 | Win count: 82 | Win rate: 1.000 | time: 13.36 minutes\n",
      "Epoch: 102/14999 | Loss: 0.0002 | Episodes: 4921 | Win count: 83 | Win rate: 1.000 | time: 13.43 minutes\n",
      "Epoch: 103/14999 | Loss: 0.0009 | Episodes: 4930 | Win count: 84 | Win rate: 1.000 | time: 13.46 minutes\n",
      "Epoch: 104/14999 | Loss: 0.0004 | Episodes: 4964 | Win count: 85 | Win rate: 1.000 | time: 13.55 minutes\n",
      "Epoch: 105/14999 | Loss: 0.0006 | Episodes: 4982 | Win count: 86 | Win rate: 1.000 | time: 13.59 minutes\n",
      "Epoch: 106/14999 | Loss: 0.0003 | Episodes: 5010 | Win count: 87 | Win rate: 1.000 | time: 13.66 minutes\n",
      "Epoch: 107/14999 | Loss: 0.0005 | Episodes: 5016 | Win count: 88 | Win rate: 1.000 | time: 13.69 minutes\n",
      "Epoch: 108/14999 | Loss: 0.0003 | Episodes: 5019 | Win count: 89 | Win rate: 1.000 | time: 13.72 minutes\n",
      "Epoch: 109/14999 | Loss: 0.0004 | Episodes: 5046 | Win count: 90 | Win rate: 1.000 | time: 13.80 minutes\n",
      "Epoch: 110/14999 | Loss: 0.0001 | Episodes: 5078 | Win count: 91 | Win rate: 1.000 | time: 13.88 minutes\n",
      "Epoch: 111/14999 | Loss: 0.0000 | Episodes: 5094 | Win count: 92 | Win rate: 1.000 | time: 13.92 minutes\n",
      "Epoch: 112/14999 | Loss: 0.0001 | Episodes: 5113 | Win count: 93 | Win rate: 1.000 | time: 13.99 minutes\n",
      "Epoch: 113/14999 | Loss: 0.0001 | Episodes: 5124 | Win count: 94 | Win rate: 1.000 | time: 14.03 minutes\n",
      "Epoch: 114/14999 | Loss: 0.0000 | Episodes: 5141 | Win count: 95 | Win rate: 1.000 | time: 14.08 minutes\n",
      "Epoch: 115/14999 | Loss: 0.0002 | Episodes: 5142 | Win count: 96 | Win rate: 1.000 | time: 14.09 minutes\n",
      "Epoch: 116/14999 | Loss: 0.0000 | Episodes: 5180 | Win count: 97 | Win rate: 1.000 | time: 14.19 minutes\n",
      "Epoch: 117/14999 | Loss: 0.0003 | Episodes: 5181 | Win count: 98 | Win rate: 1.000 | time: 14.20 minutes\n",
      "Epoch: 118/14999 | Loss: 0.0003 | Episodes: 5191 | Win count: 99 | Win rate: 1.000 | time: 14.24 minutes\n",
      "Epoch: 119/14999 | Loss: 0.0000 | Episodes: 5201 | Win count: 100 | Win rate: 1.000 | time: 14.27 minutes\n",
      "Epoch: 120/14999 | Loss: 0.0004 | Episodes: 5205 | Win count: 101 | Win rate: 1.000 | time: 14.28 minutes\n",
      "Epoch: 121/14999 | Loss: 0.0002 | Episodes: 5220 | Win count: 102 | Win rate: 1.000 | time: 14.33 minutes\n",
      "Epoch: 122/14999 | Loss: 0.0001 | Episodes: 5233 | Win count: 103 | Win rate: 1.000 | time: 14.38 minutes\n",
      "Epoch: 123/14999 | Loss: 0.0003 | Episodes: 5254 | Win count: 104 | Win rate: 1.000 | time: 14.45 minutes\n",
      "Epoch: 124/14999 | Loss: 0.0008 | Episodes: 5287 | Win count: 105 | Win rate: 1.000 | time: 14.54 minutes\n",
      "Epoch: 125/14999 | Loss: 0.0009 | Episodes: 5290 | Win count: 106 | Win rate: 1.000 | time: 14.55 minutes\n",
      "Epoch: 126/14999 | Loss: 0.0005 | Episodes: 5318 | Win count: 107 | Win rate: 1.000 | time: 14.62 minutes\n",
      "Epoch: 127/14999 | Loss: 0.0004 | Episodes: 5374 | Win count: 108 | Win rate: 1.000 | time: 14.77 minutes\n",
      "Epoch: 128/14999 | Loss: 0.0002 | Episodes: 5397 | Win count: 109 | Win rate: 1.000 | time: 14.84 minutes\n",
      "Epoch: 129/14999 | Loss: 0.0007 | Episodes: 5435 | Win count: 110 | Win rate: 1.000 | time: 14.93 minutes\n",
      "Epoch: 130/14999 | Loss: 0.0006 | Episodes: 5448 | Win count: 111 | Win rate: 1.000 | time: 14.97 minutes\n",
      "Epoch: 131/14999 | Loss: 0.0004 | Episodes: 5474 | Win count: 112 | Win rate: 1.000 | time: 15.03 minutes\n",
      "Epoch: 132/14999 | Loss: 0.0003 | Episodes: 5494 | Win count: 113 | Win rate: 1.000 | time: 15.08 minutes\n",
      "Epoch: 133/14999 | Loss: 0.0003 | Episodes: 5502 | Win count: 114 | Win rate: 1.000 | time: 15.11 minutes\n",
      "Epoch: 134/14999 | Loss: 0.0011 | Episodes: 5509 | Win count: 115 | Win rate: 1.000 | time: 15.13 minutes\n",
      "Epoch: 135/14999 | Loss: 0.0011 | Episodes: 5524 | Win count: 116 | Win rate: 1.000 | time: 15.17 minutes\n",
      "Epoch: 136/14999 | Loss: 0.0007 | Episodes: 5562 | Win count: 117 | Win rate: 1.000 | time: 15.26 minutes\n",
      "Epoch: 137/14999 | Loss: 0.0004 | Episodes: 5585 | Win count: 118 | Win rate: 1.000 | time: 15.32 minutes\n",
      "Epoch: 138/14999 | Loss: 0.0005 | Episodes: 5595 | Win count: 119 | Win rate: 1.000 | time: 15.35 minutes\n",
      "Epoch: 139/14999 | Loss: 0.0005 | Episodes: 5610 | Win count: 120 | Win rate: 1.000 | time: 15.39 minutes\n",
      "Epoch: 140/14999 | Loss: 0.0016 | Episodes: 5612 | Win count: 121 | Win rate: 1.000 | time: 15.40 minutes\n",
      "Epoch: 141/14999 | Loss: 0.0007 | Episodes: 5640 | Win count: 122 | Win rate: 1.000 | time: 15.47 minutes\n",
      "Epoch: 142/14999 | Loss: 0.0010 | Episodes: 5670 | Win count: 123 | Win rate: 1.000 | time: 15.54 minutes\n",
      "Epoch: 143/14999 | Loss: 0.0004 | Episodes: 5732 | Win count: 124 | Win rate: 1.000 | time: 15.69 minutes\n",
      "Epoch: 144/14999 | Loss: 0.0008 | Episodes: 5752 | Win count: 125 | Win rate: 1.000 | time: 15.75 minutes\n",
      "Epoch: 145/14999 | Loss: 0.0017 | Episodes: 5753 | Win count: 126 | Win rate: 1.000 | time: 15.76 minutes\n",
      "Epoch: 146/14999 | Loss: 0.0002 | Episodes: 5760 | Win count: 127 | Win rate: 1.000 | time: 15.79 minutes\n",
      "Epoch: 147/14999 | Loss: 0.0003 | Episodes: 5767 | Win count: 128 | Win rate: 1.000 | time: 15.81 minutes\n",
      "Epoch: 148/14999 | Loss: 0.0007 | Episodes: 5796 | Win count: 129 | Win rate: 1.000 | time: 15.89 minutes\n",
      "Epoch: 149/14999 | Loss: 0.0008 | Episodes: 5801 | Win count: 130 | Win rate: 1.000 | time: 15.91 minutes\n",
      "Epoch: 150/14999 | Loss: 0.0005 | Episodes: 5802 | Win count: 131 | Win rate: 1.000 | time: 15.91 minutes\n",
      "Epoch: 151/14999 | Loss: 0.0007 | Episodes: 5821 | Win count: 132 | Win rate: 1.000 | time: 15.96 minutes\n",
      "Epoch: 152/14999 | Loss: 0.0001 | Episodes: 5856 | Win count: 133 | Win rate: 1.000 | time: 16.06 minutes\n",
      "Epoch: 153/14999 | Loss: 0.0009 | Episodes: 5880 | Win count: 134 | Win rate: 1.000 | time: 16.11 minutes\n",
      "Epoch: 154/14999 | Loss: 0.0004 | Episodes: 5914 | Win count: 135 | Win rate: 1.000 | time: 16.20 minutes\n",
      "Epoch: 155/14999 | Loss: 0.0003 | Episodes: 5941 | Win count: 136 | Win rate: 1.000 | time: 16.26 minutes\n",
      "Epoch: 156/14999 | Loss: 0.0004 | Episodes: 5970 | Win count: 137 | Win rate: 1.000 | time: 16.33 minutes\n"
     ]
    },
    {
     "name": "stdout",
     "output_type": "stream",
     "text": [
      "Epoch: 157/14999 | Loss: 0.0005 | Episodes: 5999 | Win count: 138 | Win rate: 1.000 | time: 16.40 minutes\n",
      "Epoch: 158/14999 | Loss: 0.0003 | Episodes: 6003 | Win count: 139 | Win rate: 1.000 | time: 16.41 minutes\n",
      "Epoch: 159/14999 | Loss: 0.0004 | Episodes: 6047 | Win count: 140 | Win rate: 1.000 | time: 16.52 minutes\n",
      "Reached 100% win rate at epoch: 159\n",
      "n_epoch: 159, max_mem: 512, data: 32, time: 16.53 minutes\n"
     ]
    },
    {
     "data": {
      "text/plain": [
       "991.897477"
      ]
     },
     "execution_count": 11,
     "metadata": {},
     "output_type": "execute_result"
    }
   ],
   "source": [
    "model = build_model(maze)\n",
    "qtrain(model, maze, epochs=1000, max_memory=8*maze.size, data_size=32)"
   ]
  },
  {
   "cell_type": "markdown",
   "metadata": {},
   "source": [
    "This cell will check to see if the model passes the completion check. Note: This could take several minutes."
   ]
  },
  {
   "cell_type": "code",
   "execution_count": 12,
   "metadata": {},
   "outputs": [
    {
     "data": {
      "text/plain": [
       "<matplotlib.image.AxesImage at 0x28850e0e788>"
      ]
     },
     "execution_count": 12,
     "metadata": {},
     "output_type": "execute_result"
    },
    {
     "data": {
      "image/png": "[encoded data removed]",
      "text/plain": [
       "<Figure size 432x288 with 1 Axes>"
      ]
     },
     "metadata": {
      "needs_background": "light"
     },
     "output_type": "display_data"
    }
   ],
   "source": [
    "completion_check(model, qmaze)\n",
    "show(qmaze)"
   ]
  },
  {
   "cell_type": "markdown",
   "metadata": {},
   "source": [
    "This cell will test your model for one game. It will start the pirate at the top-left corner and run play_game. The agent should find a path from the starting position to the target (treasure). The treasure is located in the bottom-right corner."
   ]
  },
  {
   "cell_type": "code",
   "execution_count": 13,
   "metadata": {},
   "outputs": [
    {
     "data": {
      "text/plain": [
       "<matplotlib.image.AxesImage at 0x2885772eb48>"
      ]
     },
     "execution_count": 13,
     "metadata": {},
     "output_type": "execute_result"
    },
    {
     "data": {
      "image/png": "[encoded data removed]",
      "text/plain": [
       "<Figure size 432x288 with 1 Axes>"
      ]
     },
     "metadata": {
      "needs_background": "light"
     },
     "output_type": "display_data"
    }
   ],
   "source": [
    "pirate_start = (0, 0)\n",
    "play_game(model, qmaze, pirate_start)\n",
    "show(qmaze)"
   ]
  },
  {
   "cell_type": "markdown",
   "metadata": {},
   "source": [
    "## Save and Submit Your Work\n",
    "After you have finished creating the code for your notebook, save your work. Make sure that your notebook contains your name in the filename (e.g. Doe_Jane_ProjectTwo.ipynb). This will help your instructor access and grade your work easily. Download a copy of your IPYNB file and submit it to Brightspace. Refer to the Jupyter Notebook in Apporto Tutorial if you need help with these tasks."
   ]
  }
 ],
 "metadata": {
  "kernelspec": {
   "display_name": "Python 3",
   "language": "python",
   "name": "python3"
  },
  "language_info": {
   "codemirror_mode": {
    "name": "ipython",
    "version": 3
   },
   "file_extension": ".py",
   "mimetype": "text/x-python",
   "name": "python",
   "nbconvert_exporter": "python",
   "pygments_lexer": "ipython3",
   "version": "3.7.4"
  }
 },
 "nbformat": 4,
 "nbformat_minor": 2
}
