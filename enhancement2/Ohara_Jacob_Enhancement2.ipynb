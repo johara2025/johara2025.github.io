{
  "cells": [
    {
      "cell_type": "markdown",
      "metadata": {
        "id": "JJhSbAQgj527"
      },
      "source": [
        "# Treasure Hunt Game Notebook\n",
        "\n",
        "## Read and Review Your Starter Code\n",
        "The theme of this project is a popular treasure hunt game in which the player needs to find the treasure before the pirate does. While you will not be developing the entire game, you will write the part of the game that represents the intelligent agent, which is a pirate in this case. The pirate will try to find the optimal path to the treasure using deep Q-learning.\n",
        "\n",
        "You have been provided with two Python classes and this notebook to help you with this assignment. The first class, TreasureMaze.py, represents the environment, which includes a maze object defined as a matrix. The second class, GameExperience.py, stores the episodes – that is, all the states that come in between the initial state and the terminal state. This is later used by the agent for learning by experience, called \"exploration\". This notebook shows how to play a game. Your task is to complete the deep Q-learning implementation for which a skeleton implementation has been provided. The code blocks you will need to complete has #TODO as a header.\n",
        "\n",
        "First, read and review the next few code and instruction blocks to understand the code that you have been given."
      ]
    },
    {
      "cell_type": "code",
      "execution_count": null,
      "metadata": {
        "id": "K6vOLd56j528"
      },
      "outputs": [],
      "source": [
        "from __future__ import print_function\n",
        "import os, sys, time, datetime, json, random\n",
        "import numpy as np\n",
        "from keras.models import Sequential\n",
        "from keras.layers import Dense, Activation\n",
        "from keras.optimizers import SGD , Adam, RMSprop\n",
        "from keras.layers import PReLU\n",
        "import matplotlib.pyplot as plt\n",
        "from TreasureMaze import TreasureMaze\n",
        "from GameExperience import GameExperience\n",
        "%matplotlib inline"
      ]
    },
    {
      "cell_type": "markdown",
      "metadata": {
        "id": "Lf-x8tIGj529"
      },
      "source": [
        "The following code block contains an 8x8 matrix that will be used as a maze object:"
      ]
    },
    {
      "cell_type": "code",
      "execution_count": null,
      "metadata": {
        "id": "awZYX4WXj529"
      },
      "outputs": [],
      "source": [
        "maze = np.array([\n",
        "    [ 1.,  0.,  1.,  1.,  1.,  1.,  1.,  1.],\n",
        "    [ 1.,  0.,  1.,  1.,  1.,  0.,  1.,  1.],\n",
        "    [ 1.,  1.,  1.,  1.,  0.,  1.,  0.,  1.],\n",
        "    [ 1.,  1.,  1.,  0.,  1.,  1.,  1.,  1.],\n",
        "    [ 1.,  1.,  0.,  1.,  1.,  1.,  1.,  1.],\n",
        "    [ 1.,  1.,  1.,  0.,  1.,  0.,  0.,  0.],\n",
        "    [ 1.,  1.,  1.,  0.,  1.,  1.,  1.,  1.],\n",
        "    [ 1.,  1.,  1.,  1.,  0.,  1.,  1.,  1.]\n",
        "])"
      ]
    },
    {
      "cell_type": "markdown",
      "metadata": {
        "id": "RNqJ8wtSj529"
      },
      "source": [
        "This helper function allows a visual representation of the maze object:"
      ]
    },
    {
      "cell_type": "code",
      "execution_count": null,
      "metadata": {
        "id": "i0Xjmvazj52-"
      },
      "outputs": [],
      "source": [
        "def show(qmaze):\n",
        "    plt.grid('on')\n",
        "    nrows, ncols = qmaze.maze.shape\n",
        "    ax = plt.gca()\n",
        "    ax.set_xticks(np.arange(0.5, nrows, 1))\n",
        "    ax.set_yticks(np.arange(0.5, ncols, 1))\n",
        "    ax.set_xticklabels([])\n",
        "    ax.set_yticklabels([])\n",
        "    canvas = np.copy(qmaze.maze)\n",
        "    for row,col in qmaze.visited:\n",
        "        canvas[row,col] = 0.6\n",
        "    pirate_row, pirate_col, _ = qmaze.state\n",
        "    canvas[pirate_row, pirate_col] = 0.3   # pirate cell\n",
        "    canvas[nrows-1, ncols-1] = 0.9 # treasure cell\n",
        "    img = plt.imshow(canvas, interpolation='none', cmap='gray')\n",
        "    return img"
      ]
    },
    {
      "cell_type": "markdown",
      "metadata": {
        "id": "9MMGgEcjj52-"
      },
      "source": [
        "The pirate agent can move in four directions: left, right, up, and down.\n",
        "\n",
        "While the agent primarily learns by experience through exploitation, often, the agent can choose to explore the environment to find previously undiscovered paths. This is called \"exploration\" and is defined by epsilon. This value is typically a lower value such as 0.1, which means for every ten attempts, the agent will attempt to learn by experience nine times and will randomly explore a new path one time. You are encouraged to try various values for the exploration factor and see how the algorithm performs."
      ]
    },
    {
      "cell_type": "code",
      "execution_count": null,
      "metadata": {
        "id": "oH39zes8j52-"
      },
      "outputs": [],
      "source": [
        "LEFT = 0\n",
        "UP = 1\n",
        "RIGHT = 2\n",
        "DOWN = 3\n",
        "\n",
        "\n",
        "# Exploration factor\n",
        "epsilon = 0.1\n",
        "\n",
        "# Actions dictionary\n",
        "actions_dict = {\n",
        "    LEFT: 'left',\n",
        "    UP: 'up',\n",
        "    RIGHT: 'right',\n",
        "    DOWN: 'down',\n",
        "}\n",
        "\n",
        "num_actions = len(actions_dict)\n"
      ]
    },
    {
      "cell_type": "markdown",
      "metadata": {
        "id": "ZRPKe1S_j52-"
      },
      "source": [
        "The sample code block and output below show creating a maze object and performing one action (DOWN), which returns the reward. The resulting updated environment is visualized."
      ]
    },
    {
      "cell_type": "code",
      "execution_count": null,
      "metadata": {
        "id": "TwPtxqZXj52-"
      },
      "outputs": [],
      "source": [
        "qmaze = TreasureMaze(maze)\n",
        "canvas, reward, game_over = qmaze.act(DOWN)\n",
        "print(\"reward=\", reward)\n",
        "show(qmaze)"
      ]
    },
    {
      "cell_type": "markdown",
      "metadata": {
        "id": "USw4gLLQj52_"
      },
      "source": [
        "This function simulates a full game based on the provided trained model. The other parameters include the TreasureMaze object and the starting position of the pirate."
      ]
    },
    {
      "cell_type": "code",
      "execution_count": null,
      "metadata": {
        "id": "81W-k7YMj52_"
      },
      "outputs": [],
      "source": [
        "def play_game(model, qmaze, pirate_cell):\n",
        "    qmaze.reset(pirate_cell)\n",
        "    envstate = qmaze.observe()\n",
        "    while True:\n",
        "        prev_envstate = envstate\n",
        "        # get next action\n",
        "        q = model.predict(prev_envstate)\n",
        "        action = np.argmax(q[0])\n",
        "\n",
        "        # apply action, get rewards and new state\n",
        "        envstate, reward, game_status = qmaze.act(action)\n",
        "        if game_status == 'win':\n",
        "            return True\n",
        "        elif game_status == 'lose':\n",
        "            return False"
      ]
    },
    {
      "cell_type": "markdown",
      "metadata": {
        "id": "YobGmIqUj52_"
      },
      "source": [
        "This function helps you to determine whether the pirate can win any game at all. If your maze is not well designed, the pirate may not win any game at all. In this case, your training would not yield any result. The provided maze in this notebook ensures that there is a path to win and you can run this method to check."
      ]
    },
    {
      "cell_type": "code",
      "execution_count": null,
      "metadata": {
        "id": "kCdi2qLrj52_"
      },
      "outputs": [],
      "source": [
        "def completion_check(model, qmaze):\n",
        "    for cell in qmaze.free_cells:\n",
        "        if not qmaze.valid_actions(cell):\n",
        "            return False\n",
        "        if not play_game(model, qmaze, cell):\n",
        "            return False\n",
        "    return True"
      ]
    },
    {
      "cell_type": "markdown",
      "metadata": {
        "id": "LDRyCFbbj52_"
      },
      "source": [
        "The code you have been given in this block will build the neural network model. Review the code and note the number of layers, as well as the activation, optimizer, and loss functions that are used to train the model."
      ]
    },
    {
      "cell_type": "code",
      "execution_count": null,
      "metadata": {
        "id": "p7fc1Ch7j52_"
      },
      "outputs": [],
      "source": [
        "def build_model(maze):\n",
        "    model = Sequential()\n",
        "    model.add(Dense(maze.size, input_shape=(maze.size,)))\n",
        "    model.add(PReLU())\n",
        "    model.add(Dense(maze.size))\n",
        "    model.add(PReLU())\n",
        "    model.add(Dense(num_actions))\n",
        "    model.compile(optimizer='adam', loss='mse')\n",
        "    return model"
      ]
    },
    {
      "cell_type": "markdown",
      "metadata": {
        "id": "4Y3DL-46j52_"
      },
      "source": [
        "# #TODO: Complete the Q-Training Algorithm Code Block\n",
        "\n",
        "This is your deep Q-learning implementation. The goal of your deep Q-learning implementation is to find the best possible navigation sequence that results in reaching the treasure cell while maximizing the reward. In your implementation, you need to determine the optimal number of epochs to achieve a 100% win rate.\n",
        "\n",
        "You will need to complete the section starting with #pseudocode. The pseudocode has been included for you."
      ]
    },
    {
      "cell_type": "code",
      "execution_count": null,
      "metadata": {
        "id": "u-ufVd99j52_"
      },
      "outputs": [],
      "source": [
        "def qtrain(model, maze, **opt):\n",
        "\n",
        "    # exploration factor\n",
        "    global epsilon\n",
        "\n",
        "    # number of epochs\n",
        "    n_epoch = opt.get('n_epoch', 15000)\n",
        "\n",
        "    # maximum memory to store episodes\n",
        "    max_memory = opt.get('max_memory', 1000)\n",
        "\n",
        "    # maximum data size for training\n",
        "    data_size = opt.get('data_size', 50)\n",
        "\n",
        "    # initial batch size history\n",
        "    batch_size = opt.get('batch_size', 16)\n",
        "\n",
        "    # start time\n",
        "    start_time = datetime.datetime.now()\n",
        "\n",
        "    # Construct environment/game from numpy array: maze (see above)\n",
        "    qmaze = TreasureMaze(maze)\n",
        "\n",
        "    # Initialize experience replay object\n",
        "    experience = GameExperience(model, max_memory=max_memory)\n",
        "\n",
        "    win_history = []   # history of win/lose game\n",
        "    hsize = qmaze.maze.size//2   # history window size\n",
        "    win_rate = 0.0\n",
        "    n_episodes = 0\n",
        "\n",
        "    # implement variables for early stop\n",
        "    stop_counter = 0\n",
        "    last_loss = float('inf')\n",
        "\n",
        "    # For each epoch:\n",
        "    for epoch in range(n_epoch):\n",
        "        # agent cell randomly selects a free cell\n",
        "        Agent_cell = random.choice(qmaze.free_cells)\n",
        "        #reset maze with agent in the free cell\n",
        "        qmaze.reset(Agent_cell)\n",
        "        envstate = qmaze.observe()\n",
        "\n",
        "        # define game over to false to start the loop\n",
        "        game_over = False\n",
        "\n",
        "        #while loop to show when the state is not game over\n",
        "        while not game_over:\n",
        "\n",
        "            # get next action\n",
        "            prev_envstate = envstate\n",
        "            #prev state is envstate\n",
        "            previous_envstate = envstate\n",
        "            # action is randomly chosen action\n",
        "            valid_actions = qmaze.valid_actions()\n",
        "\n",
        "            #add eppsilon strategy so that the agent isnt choosing at random every single time and not learning\n",
        "            if np.random.rand() < epsilon:\n",
        "                action = random.choice(valid_actions)\n",
        "            else:\n",
        "                action = np.argmax(experience.predict(previous_envstate))\n",
        "\n",
        "            #get new state\n",
        "            envstate, reward, game_status = qmaze.act(action)\n",
        "\n",
        "            if game_status == 'win':\n",
        "                win_history.append(1)\n",
        "                game_over = True\n",
        "            elif game_status == 'lose':\n",
        "                win_history.append(0)\n",
        "                game_over = True\n",
        "            else:\n",
        "                game_over = False\n",
        "\n",
        "            #episode has prev envstat actions reward envstate game state\n",
        "            #then episode is stored in experience replay onject\n",
        "            episode = [previous_envstate, action, reward, envstate, game_status]\n",
        "            experience.remember(episode)\n",
        "            n_episodes += 1\n",
        "            #get training data from memory\n",
        "            inputs, targets = experience.get_data(data_size = data_size)\n",
        "\n",
        "            #train networ and evaluate the loss\n",
        "            history = model.fit(inputs, targets, epochs=8, batch_size=batch_size, verbose=0)\n",
        "            loss = model.evaluate(inputs, targets, verbose=0)\n",
        "\n",
        "            #Batch size adjustments\n",
        "            if loss < last_loss:\n",
        "              batch_size = min(batch_size + 4, 64)\n",
        "              stop_counter = 0\n",
        "            else:\n",
        "              batch_size = max(batch_size - 4, 16)\n",
        "              stop_counter += 1\n",
        "            last_loss = loss\n",
        "\n",
        "            # stop training at plateaus\n",
        "            if stop_counter >= 10:\n",
        "              print(\"Stopping early due to plateau\")\n",
        "              break\n",
        "\n",
        "            dt = datetime.datetime.now() - start_time\n",
        "            t = format_time(dt.total_seconds())\n",
        "            print(f\"Epoch: {epoch:03d}/{n_epoch-1} | Loss: {loss:.4f} | Episodes: {n_episodes} | Win count: {sum(win_history)} | Win rate: {win_rate:.3f} | time: {t}\")\n",
        "\n",
        "            # track win loss history to determine the completion check and epoch\n",
        "            if len(win_history) > hsize:\n",
        "                win_rate = sum(win_history[-hsize:]) / hsize\n",
        "\n",
        "            # dynamic epsilon decay\n",
        "            epsilon = max(epsilon * 0.99, 0.05)\n",
        "\n",
        "            if sum(win_history[-hsize:]) == hsize and completion_check(model, qmaze):\n",
        "                print(\"Reached 100%% win rate at epoch: %d\" % (epoch,))\n",
        "                break\n",
        "\n",
        "\n",
        "    #Print the epoch, loss, episodes, win count, and win rate for each epoch\n",
        "        dt = datetime.datetime.now() - start_time\n",
        "        t = format_time(dt.total_seconds())\n",
        "        template = \"Epoch: {:03d}/{:d} | Loss: {:.4f} | Episodes: {:d} | Win count: {:d} | Win rate: {:.3f} | time: {}\"\n",
        "        print(template.format(epoch, n_epoch-1, loss, n_episodes, sum(win_history), win_rate, t))\n",
        "\n",
        "\n",
        "\n",
        "        if sum(win_history[-hsize:]) == hsize and completion_check(model, qmaze):\n",
        "            print(\"Reached 100%% win rate at epoch: %d\" % (epoch,))\n",
        "            break\n",
        "\n",
        "\n",
        "    # Determine the total time for training\n",
        "    dt = datetime.datetime.now() - start_time\n",
        "    seconds = dt.total_seconds()\n",
        "    t = format_time(seconds)\n",
        "\n",
        "    print(\"n_epoch: %d, max_mem: %d, data: %d, time: %s\" % (epoch, max_memory, data_size, t))\n",
        "    return seconds\n",
        "\n",
        "# This is a small utility for printing readable time strings:\n",
        "def format_time(seconds):\n",
        "    if seconds < 400:\n",
        "        s = float(seconds)\n",
        "        return \"%.1f seconds\" % (s,)\n",
        "    elif seconds < 4000:\n",
        "        m = seconds / 60.0\n",
        "        return \"%.2f minutes\" % (m,)\n",
        "    else:\n",
        "        h = seconds / 3600.0\n",
        "        return \"%.2f hours\" % (h,)"
      ]
    },
    {
      "cell_type": "markdown",
      "metadata": {
        "id": "u9C_Orczj53A"
      },
      "source": [
        "## Test Your Model\n",
        "\n",
        "Now we will start testing the deep Q-learning implementation. To begin, select **Cell**, then **Run All** from the menu bar. This will run your notebook. As it runs, you should see output begin to appear beneath the next few cells. The code below creates an instance of TreasureMaze."
      ]
    },
    {
      "cell_type": "code",
      "execution_count": null,
      "metadata": {
        "id": "a7H-dNLBj53A"
      },
      "outputs": [],
      "source": [
        "qmaze = TreasureMaze(maze)\n",
        "show(qmaze)"
      ]
    },
    {
      "cell_type": "markdown",
      "metadata": {
        "id": "Yp7kMlkMj53A"
      },
      "source": [
        "In the next code block, you will build your model and train it using deep Q-learning. Note: This step takes several minutes to fully run."
      ]
    },
    {
      "cell_type": "code",
      "execution_count": null,
      "metadata": {
        "collapsed": true,
        "id": "7L0ZmeGLj53A"
      },
      "outputs": [],
      "source": [
        "model = build_model(maze)\n",
        "qtrain(model, maze, epochs=1000, max_memory=8*maze.size, data_size=32)"
      ]
    },
    {
      "cell_type": "markdown",
      "metadata": {
        "id": "OXpXUXyCj53A"
      },
      "source": [
        "This cell will check to see if the model passes the completion check. Note: This could take several minutes."
      ]
    },
    {
      "cell_type": "code",
      "execution_count": null,
      "metadata": {
        "id": "u6TtTqDHj53A"
      },
      "outputs": [],
      "source": [
        "completion_check(model, qmaze)\n",
        "show(qmaze)"
      ]
    },
    {
      "cell_type": "markdown",
      "metadata": {
        "id": "-hQbOJzZj53A"
      },
      "source": [
        "This cell will test your model for one game. It will start the pirate at the top-left corner and run play_game. The agent should find a path from the starting position to the target (treasure). The treasure is located in the bottom-right corner."
      ]
    },
    {
      "cell_type": "code",
      "execution_count": null,
      "metadata": {
        "id": "EfTlmS8Qj53A"
      },
      "outputs": [],
      "source": [
        "pirate_start = (0, 0)\n",
        "play_game(model, qmaze, pirate_start)\n",
        "show(qmaze)"
      ]
    },
    {
      "cell_type": "markdown",
      "metadata": {
        "id": "S7z83r6-j53A"
      },
      "source": [
        "## Save and Submit Your Work\n",
        "After you have finished creating the code for your notebook, save your work. Make sure that your notebook contains your name in the filename (e.g. Doe_Jane_ProjectTwo.ipynb). This will help your instructor access and grade your work easily. Download a copy of your IPYNB file and submit it to Brightspace. Refer to the Jupyter Notebook in Apporto Tutorial if you need help with these tasks."
      ]
    }
  ],
  "metadata": {
    "colab": {
      "provenance": []
    },
    "kernelspec": {
      "display_name": "Python 3",
      "language": "python",
      "name": "python3"
    },
    "language_info": {
      "codemirror_mode": {
        "name": "ipython",
        "version": 3
      },
      "file_extension": ".py",
      "mimetype": "text/x-python",
      "name": "python",
      "nbconvert_exporter": "python",
      "pygments_lexer": "ipython3",
      "version": "3.7.4"
    }
  },
  "nbformat": 4,
  "nbformat_minor": 0
}